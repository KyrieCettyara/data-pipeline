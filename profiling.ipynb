{
 "cells": [
  {
   "cell_type": "markdown",
   "metadata": {},
   "source": [
    "# Profiling"
   ]
  },
  {
   "cell_type": "markdown",
   "metadata": {},
   "source": [
    "For each table or spreadsheet\n",
    "    <br> a. Check Unique Values\n",
    "    <br> b. Check Data Types\n",
    "    <br> c. Check Percentage of Missing Values\n",
    "    <br> d. Check Percentage of Valid Date Format"
   ]
  },
  {
   "cell_type": "code",
   "execution_count": 1,
   "metadata": {},
   "outputs": [],
   "source": [
    "from profiling.profile import Profiling\n",
    "from profiling.extract.extract_db import extract_database\n",
    "from profiling.extract.extract_db import extract_list_table\n",
    "from profiling.extract.extract_sheet import extract_sheet\n",
    "\n",
    "import os\n",
    "from dotenv import load_dotenv\n",
    "\n",
    "load_dotenv()\n",
    "\n",
    "# Define DIR\n",
    "SRC_POSTGRES_DB = os.getenv(\"SRC_POSTGRES_DB\")"
   ]
  },
  {
   "cell_type": "code",
   "execution_count": 3,
   "metadata": {},
   "outputs": [
    {
     "name": "stdout",
     "output_type": "stream",
     "text": [
      "{'created_at': '2025-04-16', 'report': {'people_id': {'data_type': 'int64'}, 'object_id': {'data_type': 'object'}, 'first_name': {'data_type': 'object', 'percentage_missing_value': np.float64(0.003969846808022619)}, 'last_name': {'data_type': 'object', 'percentage_missing_value': np.float64(0.001764376359121164)}, 'birthplace': {'data_type': 'object', 'percentage_missing_value': np.float64(87.6123135826103)}, 'affiliation_name': {'data_type': 'object'}}}\n"
     ]
    }
   ],
   "source": [
    "##profiling sheet\n",
    "# Extract data from spreadsheet\n",
    "df_people = extract_sheet('../data-pipeline/script/data/people.csv')\n",
    "\n",
    "people_profiling = Profiling(data = df_people, table_name='people')\n",
    "\n",
    "# get columns from the table\n",
    "people_profiling.get_columns()\n",
    "\n",
    "# Set Profiling Rule\n",
    "# list check data type (all columns)\n",
    "data_type_column = people_profiling.get_columns()\n",
    "\n",
    "#list check unique values\n",
    "unique_values_column = []\n",
    "\n",
    "#list check percentage missing values\n",
    "missing_values_column = ['first_name','last_name','birthplace']\n",
    "\n",
    "#list check valid date values\n",
    "valid_date_column = []\n",
    "\n",
    "# Set Profiling rule to object\n",
    "people_profiling.selected_columns(data_type_column, unique_values_column, missing_values_column, valid_date_column)\n",
    "\n",
    "# Create Reporting Profiling\n",
    "report_maintenance_request = people_profiling.reporting()"
   ]
  },
  {
   "cell_type": "markdown",
   "metadata": {},
   "source": [
    "#### Profiling Data Spreadsheet"
   ]
  },
  {
   "cell_type": "code",
   "execution_count": null,
   "metadata": {},
   "outputs": [],
   "source": [
    "# Extract data from spreadsheet\n",
    "df_maintenance_request = extract_sheet('maintenance_request')"
   ]
  },
  {
   "cell_type": "code",
   "execution_count": null,
   "metadata": {},
   "outputs": [],
   "source": [
    "# create profiling object\n",
    "maintenance_request_profiling = Profiling(data = df_maintenance_request, table_name='maintenance_request')"
   ]
  },
  {
   "cell_type": "code",
   "execution_count": null,
   "metadata": {},
   "outputs": [
    {
     "data": {
      "text/plain": [
       "['name', 'serial_number', 'request_date', 'location', 'request_note']"
      ]
     },
     "metadata": {},
     "output_type": "display_data"
    }
   ],
   "source": [
    "# get columns from the table\n",
    "maintenance_request_profiling.get_columns()"
   ]
  },
  {
   "cell_type": "code",
   "execution_count": null,
   "metadata": {},
   "outputs": [],
   "source": [
    "# Set Profiling Rule\n",
    "# list check data type (all columns)\n",
    "data_type_column = maintenance_request_profiling.get_columns()\n",
    "\n",
    "#list check unique values\n",
    "unique_values_column = ['location','request_note']\n",
    "\n",
    "#list check percentage missing values\n",
    "missing_values_column = ['request_date','location','request_note']\n",
    "\n",
    "#list check valid date values\n",
    "valid_date_column = ['request_date']\n",
    "\n",
    "# Set Profiling rule to object\n",
    "maintenance_request_profiling.selected_columns(data_type_column, unique_values_column, missing_values_column, valid_date_column)\n"
   ]
  },
  {
   "cell_type": "code",
   "execution_count": null,
   "metadata": {},
   "outputs": [
    {
     "name": "stdout",
     "output_type": "stream",
     "text": [
      "{'created_at': '2024-08-13', 'report': {'name': {'data_type': 'object'}, 'serial_number': {'data_type': 'object'}, 'request_date': {'data_type': 'object', 'percentage_missing_value': 0.0, 'percentage_valid_date': 100.0}, 'location': {'data_type': 'object', 'unique_value': ['labour room', 'Ophthalmic and ENT', 'OPD', 'General Instruments', 'Operation Theater', 'Ophthalmic and ENTm', 'Operation Theater or Manual'], 'percentage_missing_value': 0.0}, 'request_note': {'data_type': 'object', 'unique_value': ['Equipment inspection', 'Routine maintenance', 'Equipment calibration', 'Equipment cleaning', 'Equipment repair'], 'percentage_missing_value': 0.0}}}\n"
     ]
    }
   ],
   "source": [
    "# Create Reporting Profiling\n",
    "report_maintenance_request = maintenance_request_profiling.reporting()"
   ]
  },
  {
   "cell_type": "code",
   "execution_count": null,
   "metadata": {},
   "outputs": [
    {
     "data": {
      "text/plain": [
       "{'created_at': '2024-08-13',\n",
       " 'report': {'name': {'data_type': 'object'},\n",
       "  'serial_number': {'data_type': 'object'},\n",
       "  'request_date': {'data_type': 'object',\n",
       "   'percentage_missing_value': 0.0,\n",
       "   'percentage_valid_date': 100.0},\n",
       "  'location': {'data_type': 'object',\n",
       "   'unique_value': ['labour room',\n",
       "    'Ophthalmic and ENT',\n",
       "    'OPD',\n",
       "    'General Instruments',\n",
       "    'Operation Theater',\n",
       "    'Ophthalmic and ENTm',\n",
       "    'Operation Theater or Manual'],\n",
       "   'percentage_missing_value': 0.0},\n",
       "  'request_note': {'data_type': 'object',\n",
       "   'unique_value': ['Equipment inspection',\n",
       "    'Routine maintenance',\n",
       "    'Equipment calibration',\n",
       "    'Equipment cleaning',\n",
       "    'Equipment repair'],\n",
       "   'percentage_missing_value': 0.0}}}"
      ]
     },
     "metadata": {},
     "output_type": "display_data"
    }
   ],
   "source": [
    "report_maintenance_request"
   ]
  },
  {
   "cell_type": "markdown",
   "metadata": {},
   "source": [
    "#### Profiling Data Database Clinic"
   ]
  },
  {
   "cell_type": "code",
   "execution_count": null,
   "metadata": {},
   "outputs": [
    {
     "name": "stdout",
     "output_type": "stream",
     "text": [
      "     table_name\n",
      "0       patient\n",
      "1   appointment\n",
      "2    speciality\n",
      "3        doctor\n",
      "4  prescription\n",
      "5    medication\n"
     ]
    }
   ],
   "source": [
    "# Extract list of table in Database Clinic\n",
    "list_table = extract_list_table(db_name='clinic')\n",
    "print(list_table)"
   ]
  },
  {
   "cell_type": "code",
   "execution_count": null,
   "metadata": {},
   "outputs": [
    {
     "data": {
      "text/plain": [
       "['patient_id',\n",
       " 'name',\n",
       " 'dob',\n",
       " 'gender',\n",
       " 'phone_number',\n",
       " 'address',\n",
       " 'state_code',\n",
       " 'created_at']"
      ]
     },
     "metadata": {},
     "output_type": "display_data"
    }
   ],
   "source": [
    "# Profiling Table patient\n",
    "df_patient = extract_database('clinic', 'patient')\n",
    "\n",
    "# create profiling object\n",
    "patient_profiling = Profiling(data = df_patient, table_name='patient')\n",
    "\n",
    "# get columns from the table\n",
    "patient_profiling.get_columns()"
   ]
  },
  {
   "cell_type": "code",
   "execution_count": null,
   "metadata": {},
   "outputs": [],
   "source": [
    "# Set Profiling Rule\n",
    "# list check data type (all columns)\n",
    "data_type_column = patient_profiling.get_columns()\n",
    "\n",
    "#list check unique values\n",
    "unique_values = ['state_code']\n",
    "\n",
    "#list check percentage missing values\n",
    "missing_values = ['phone_number', 'address', 'state_code']\n",
    "\n",
    "#list check valid date values\n",
    "valid_date = ['dob']\n",
    "\n",
    "# Set Profiling rule to object\n",
    "patient_profiling.selected_columns(data_type_column, unique_values, missing_values, valid_date)"
   ]
  },
  {
   "cell_type": "code",
   "execution_count": null,
   "metadata": {},
   "outputs": [
    {
     "name": "stdout",
     "output_type": "stream",
     "text": [
      "{'created_at': '2024-08-13', 'report': {'patient_id': {'data_type': 'int64'}, 'name': {'data_type': 'object'}, 'dob': {'data_type': 'object', 'percentage_valid_date': 100.0}, 'gender': {'data_type': 'object'}, 'phone_number': {'data_type': 'object', 'percentage_missing_value': 0.0}, 'address': {'data_type': 'object', 'percentage_missing_value': 0.0}, 'state_code': {'data_type': 'object', 'unique_value': ['WA', 'NSW', 'NT', 'VIC', 'QLD', 'TAS', 'FO', 'YQ', 'PY', 'ZV', 'RB', 'PU', 'BP', 'LK', 'SV', 'GB', 'HJ', 'JN', 'EC', 'WF', 'SD', 'NY', 'RD', 'LP', 'IU', 'BY', 'JT', 'KH', 'OL', 'VC', 'YG', 'AT', 'UT', 'JA', 'LD', 'EV', 'BD', 'TA', 'OZ', 'CT', 'LB', 'DR', 'FW', 'TL', 'BS', 'PT', 'TI', 'PN', 'QX', 'IJ', 'HV', 'PR', 'WV', 'IQ', 'TR', 'GZ', 'NV', 'EJ', 'NE', 'HB', 'BA', 'AS', 'OP', 'AN', 'UU', 'PG', 'DC', 'YP', 'AH', 'CO', 'MR', 'BX', 'ZN', 'NP', 'PB', 'EW', 'SA', 'WT', 'WL', 'KS', 'CH', 'YF', 'FA', 'AF', 'DN', 'MW', 'JM', 'XI', 'FU', 'MM', 'IF', 'IH', 'CB', 'IA', 'XK', 'FI', 'CV', 'LQ', 'LS', 'ME', 'PJ', 'CQ', 'RP', 'JI', 'GI', 'VZ', 'IR', 'ZF', 'QO', 'WP', 'KA', 'HH', 'RT', 'UE', 'VU', 'AJ', 'IY', 'XP', 'FL', 'WS', 'ON', 'VJ', 'NJ', 'YL', 'BG', 'XM', 'ZU', 'KP', 'HX', 'NA', 'CM', 'GR', 'IE', 'XR', 'WM', 'XC', 'CE', 'IV', 'LJ', 'QZ', 'NO', 'GS', 'MZ', 'MN', 'RX', 'UY', 'HE', 'RN', 'BB', 'FN', 'RQ', 'GX', 'WC', 'QR', 'MO', 'MD', 'WJ', 'QV', 'EP', 'KI', 'HQ', 'WB', 'JD', 'RA', 'GL', 'BR', 'GY', 'OC', 'NM', 'DQ', 'HW', 'NN', 'RK', 'OR', 'GW', 'CG', 'BL', 'XZ', 'HY', 'DY', 'XE', 'HC', 'UX', 'SM', 'GT', 'YH', 'UK', 'FP', 'SG', 'AI', 'HR', 'RZ', 'PS', 'TQ', 'HS', 'OY', 'KU', 'WY', 'JU', 'PP', 'XH', 'YZ', 'SC', 'OU', 'XN', 'OK', 'WI', 'VX', 'UZ', 'LM', 'TX', 'YB', 'PV', 'SX', 'SH', 'ZP', 'ST', 'OJ', 'LU', 'BH', 'DU', 'US', 'AZ', 'NB', 'OH', 'WD', 'EE', 'MS', 'SU', 'II', 'MA', 'VI', 'HN', 'SS', 'VT', 'VS', 'XA', 'HM', 'TS', 'IN', 'KY', 'XG', 'MJ', 'UG', 'ZQ', 'MQ', 'TO', 'UV', 'BK', 'AD', 'AP', 'YJ', 'LY', 'LF', 'MY', 'ZR', 'QP', 'BW', 'GU', 'NS', 'FE', 'PH', 'NR', 'LA', 'OF', 'GD', 'OS', 'QQ', 'IO', 'KE', 'OI', 'VG', 'TW', 'KX', 'LG', 'GF', 'AU', 'QE', 'SR', 'BE', 'ZH', 'SF', 'XW', 'KL', 'LX', 'TE', 'LN', 'FY', 'FD', 'PZ', 'HL', 'JZ', 'GK', 'QM', 'WR', 'OQ', 'DG', 'DE', 'KJ', 'ML', 'YD', 'QK', 'FJ', 'ET', 'CR', 'IP', 'UW', 'BV', 'OB', 'QL', 'FV', 'SQ', 'DX', 'KK', 'LW', 'EA', 'DM', 'XV', 'GA', 'LC', 'JR', 'NQ', 'QB', 'FX', 'ZB', 'IS', 'KW', 'CP', 'AV', 'YU', 'KD', 'EF', 'IG', 'XT', 'ND', 'OW', 'JH', 'FR', 'SZ', 'SY', 'CU', 'CD', 'DT', 'FC', 'JO', 'EU', 'CL', 'EN', 'QH', 'UB', 'UN', 'AG', 'IT', 'LH', 'YK', 'NI', 'NX', 'QF', 'HG', 'GO', 'YS', 'TT', 'CC', 'HK', 'JC', 'JE', 'JW', 'AQ', 'WQ', 'UH', 'WW', 'NU', 'UO', 'NG', 'CS', 'XO', 'FK', 'DZ', 'DW', 'YT', 'LI', 'YI', 'FZ', 'CI', 'JY', 'UQ', 'EK', 'AL', 'HI', 'QT', 'JV', 'KZ', 'TN', 'YR', 'TD', 'ZZ', 'UP', 'NH', 'DH', 'QS', 'MU', 'PL', 'ER', 'LV', 'HO', 'UL', 'VW', 'SK', 'VD', 'VO', 'SW', 'IM', 'SO', 'NL', 'JQ', 'YY', 'CK', 'VL', 'EX', 'PX', 'EY', 'TJ', 'GN', 'QD', 'MB', 'FG', 'GG', 'TY', 'IW', 'MX', 'DF', 'ZD', 'DI', 'HA', 'XX', 'UM', 'UC', 'YM', 'XJ', 'RW', 'FS', 'AB', 'OV', 'ZX', 'BN', 'ZA', 'HP', 'CJ', 'QG', 'EM', 'KM', 'PO', 'KG', 'ZW', 'CX', 'GQ', 'MP', 'FF', 'HZ', 'CF', 'NC', 'WG', 'XD', 'IK', 'ZJ', 'IL', 'PC', 'QU', 'BO', 'AR', 'VV', 'SB', 'KV', 'CN', 'GV', 'QI', 'AO', 'KR', 'IC', 'PQ', 'XQ', 'MV', 'GH', 'SN', 'FT', 'KO', 'RH', 'WZ', 'MK', 'AK', 'TP', 'XU', 'UJ', 'AW', 'GC', 'SP', 'OA', 'TH', 'WX', 'YA', 'XY', 'OM', 'CY', 'CZ', 'AX', 'EB', 'UI', 'TK', 'XB', 'YW', 'RJ', 'ZC', 'DJ', 'MC', 'IX', 'JP', 'ZE', 'MH', 'TB', 'VR', 'QA', 'ZS', 'BJ', 'RL', 'RY', 'YC', 'JF', 'ZT', 'QC', 'YX', 'QN', 'RR', 'FB', 'WE', 'OO', 'NK', 'ZK', 'ZO', 'ED', 'BQ', 'RE', 'TM', 'JK', 'MG', 'QJ', 'GP', 'UA', 'JG', 'JJ', 'BM', 'YE', 'XS', 'LT', 'LE', 'HU', 'VY', 'EZ', 'KQ', 'EG', 'DO', 'WK', 'RF', 'BC', 'WH', 'VQ', 'KN', 'GE', 'BU', 'BI', 'OD', 'KB', 'MT', 'TU', 'NZ', 'UD', 'HF', 'SI', 'BF', 'KF', 'TZ', 'EI', 'VB', 'RG', 'DP', 'VH', 'UR', 'AC', 'YV', 'KT', 'TC', 'OE', 'AA', 'FM', 'EL', 'DA', 'GM', 'MI', 'RS', 'JS', 'YO', 'ZM', 'TF', 'PW', 'BT', 'DK', 'ZY', 'CW', 'KC', 'DV', 'VM', 'DL', 'TV', 'WN', 'QY', 'CA', 'OX', 'SE', 'JX', 'SL', 'EH', 'ZL', 'JL', 'ZG', 'XF', 'VF', 'RI', 'PE', 'ZI', 'PA', 'LL', 'PK', 'VP', 'RV', 'LZ', 'EO', 'QW', 'DD', 'DS', 'PF', 'OG', 'RM', 'YN', 'IB'], 'percentage_missing_value': 0.0}, 'created_at': {'data_type': 'datetime64[ns, UTC]'}}}\n"
     ]
    },
    {
     "data": {
      "text/plain": [
       "{'created_at': '2024-08-13',\n",
       " 'report': {'patient_id': {'data_type': 'int64'},\n",
       "  'name': {'data_type': 'object'},\n",
       "  'dob': {'data_type': 'object', 'percentage_valid_date': 100.0},\n",
       "  'gender': {'data_type': 'object'},\n",
       "  'phone_number': {'data_type': 'object', 'percentage_missing_value': 0.0},\n",
       "  'address': {'data_type': 'object', 'percentage_missing_value': 0.0},\n",
       "  'state_code': {'data_type': 'object',\n",
       "   'unique_value': ['WA',\n",
       "    'NSW',\n",
       "    'NT',\n",
       "    'VIC',\n",
       "    'QLD',\n",
       "    'TAS',\n",
       "    'FO',\n",
       "    'YQ',\n",
       "    'PY',\n",
       "    'ZV',\n",
       "    'RB',\n",
       "    'PU',\n",
       "    'BP',\n",
       "    'LK',\n",
       "    'SV',\n",
       "    'GB',\n",
       "    'HJ',\n",
       "    'JN',\n",
       "    'EC',\n",
       "    'WF',\n",
       "    'SD',\n",
       "    'NY',\n",
       "    'RD',\n",
       "    'LP',\n",
       "    'IU',\n",
       "    'BY',\n",
       "    'JT',\n",
       "    'KH',\n",
       "    'OL',\n",
       "    'VC',\n",
       "    'YG',\n",
       "    'AT',\n",
       "    'UT',\n",
       "    'JA',\n",
       "    'LD',\n",
       "    'EV',\n",
       "    'BD',\n",
       "    'TA',\n",
       "    'OZ',\n",
       "    'CT',\n",
       "    'LB',\n",
       "    'DR',\n",
       "    'FW',\n",
       "    'TL',\n",
       "    'BS',\n",
       "    'PT',\n",
       "    'TI',\n",
       "    'PN',\n",
       "    'QX',\n",
       "    'IJ',\n",
       "    'HV',\n",
       "    'PR',\n",
       "    'WV',\n",
       "    'IQ',\n",
       "    'TR',\n",
       "    'GZ',\n",
       "    'NV',\n",
       "    'EJ',\n",
       "    'NE',\n",
       "    'HB',\n",
       "    'BA',\n",
       "    'AS',\n",
       "    'OP',\n",
       "    'AN',\n",
       "    'UU',\n",
       "    'PG',\n",
       "    'DC',\n",
       "    'YP',\n",
       "    'AH',\n",
       "    'CO',\n",
       "    'MR',\n",
       "    'BX',\n",
       "    'ZN',\n",
       "    'NP',\n",
       "    'PB',\n",
       "    'EW',\n",
       "    'SA',\n",
       "    'WT',\n",
       "    'WL',\n",
       "    'KS',\n",
       "    'CH',\n",
       "    'YF',\n",
       "    'FA',\n",
       "    'AF',\n",
       "    'DN',\n",
       "    'MW',\n",
       "    'JM',\n",
       "    'XI',\n",
       "    'FU',\n",
       "    'MM',\n",
       "    'IF',\n",
       "    'IH',\n",
       "    'CB',\n",
       "    'IA',\n",
       "    'XK',\n",
       "    'FI',\n",
       "    'CV',\n",
       "    'LQ',\n",
       "    'LS',\n",
       "    'ME',\n",
       "    'PJ',\n",
       "    'CQ',\n",
       "    'RP',\n",
       "    'JI',\n",
       "    'GI',\n",
       "    'VZ',\n",
       "    'IR',\n",
       "    'ZF',\n",
       "    'QO',\n",
       "    'WP',\n",
       "    'KA',\n",
       "    'HH',\n",
       "    'RT',\n",
       "    'UE',\n",
       "    'VU',\n",
       "    'AJ',\n",
       "    'IY',\n",
       "    'XP',\n",
       "    'FL',\n",
       "    'WS',\n",
       "    'ON',\n",
       "    'VJ',\n",
       "    'NJ',\n",
       "    'YL',\n",
       "    'BG',\n",
       "    'XM',\n",
       "    'ZU',\n",
       "    'KP',\n",
       "    'HX',\n",
       "    'NA',\n",
       "    'CM',\n",
       "    'GR',\n",
       "    'IE',\n",
       "    'XR',\n",
       "    'WM',\n",
       "    'XC',\n",
       "    'CE',\n",
       "    'IV',\n",
       "    'LJ',\n",
       "    'QZ',\n",
       "    'NO',\n",
       "    'GS',\n",
       "    'MZ',\n",
       "    'MN',\n",
       "    'RX',\n",
       "    'UY',\n",
       "    'HE',\n",
       "    'RN',\n",
       "    'BB',\n",
       "    'FN',\n",
       "    'RQ',\n",
       "    'GX',\n",
       "    'WC',\n",
       "    'QR',\n",
       "    'MO',\n",
       "    'MD',\n",
       "    'WJ',\n",
       "    'QV',\n",
       "    'EP',\n",
       "    'KI',\n",
       "    'HQ',\n",
       "    'WB',\n",
       "    'JD',\n",
       "    'RA',\n",
       "    'GL',\n",
       "    'BR',\n",
       "    'GY',\n",
       "    'OC',\n",
       "    'NM',\n",
       "    'DQ',\n",
       "    'HW',\n",
       "    'NN',\n",
       "    'RK',\n",
       "    'OR',\n",
       "    'GW',\n",
       "    'CG',\n",
       "    'BL',\n",
       "    'XZ',\n",
       "    'HY',\n",
       "    'DY',\n",
       "    'XE',\n",
       "    'HC',\n",
       "    'UX',\n",
       "    'SM',\n",
       "    'GT',\n",
       "    'YH',\n",
       "    'UK',\n",
       "    'FP',\n",
       "    'SG',\n",
       "    'AI',\n",
       "    'HR',\n",
       "    'RZ',\n",
       "    'PS',\n",
       "    'TQ',\n",
       "    'HS',\n",
       "    'OY',\n",
       "    'KU',\n",
       "    'WY',\n",
       "    'JU',\n",
       "    'PP',\n",
       "    'XH',\n",
       "    'YZ',\n",
       "    'SC',\n",
       "    'OU',\n",
       "    'XN',\n",
       "    'OK',\n",
       "    'WI',\n",
       "    'VX',\n",
       "    'UZ',\n",
       "    'LM',\n",
       "    'TX',\n",
       "    'YB',\n",
       "    'PV',\n",
       "    'SX',\n",
       "    'SH',\n",
       "    'ZP',\n",
       "    'ST',\n",
       "    'OJ',\n",
       "    'LU',\n",
       "    'BH',\n",
       "    'DU',\n",
       "    'US',\n",
       "    'AZ',\n",
       "    'NB',\n",
       "    'OH',\n",
       "    'WD',\n",
       "    'EE',\n",
       "    'MS',\n",
       "    'SU',\n",
       "    'II',\n",
       "    'MA',\n",
       "    'VI',\n",
       "    'HN',\n",
       "    'SS',\n",
       "    'VT',\n",
       "    'VS',\n",
       "    'XA',\n",
       "    'HM',\n",
       "    'TS',\n",
       "    'IN',\n",
       "    'KY',\n",
       "    'XG',\n",
       "    'MJ',\n",
       "    'UG',\n",
       "    'ZQ',\n",
       "    'MQ',\n",
       "    'TO',\n",
       "    'UV',\n",
       "    'BK',\n",
       "    'AD',\n",
       "    'AP',\n",
       "    'YJ',\n",
       "    'LY',\n",
       "    'LF',\n",
       "    'MY',\n",
       "    'ZR',\n",
       "    'QP',\n",
       "    'BW',\n",
       "    'GU',\n",
       "    'NS',\n",
       "    'FE',\n",
       "    'PH',\n",
       "    'NR',\n",
       "    'LA',\n",
       "    'OF',\n",
       "    'GD',\n",
       "    'OS',\n",
       "    'QQ',\n",
       "    'IO',\n",
       "    'KE',\n",
       "    'OI',\n",
       "    'VG',\n",
       "    'TW',\n",
       "    'KX',\n",
       "    'LG',\n",
       "    'GF',\n",
       "    'AU',\n",
       "    'QE',\n",
       "    'SR',\n",
       "    'BE',\n",
       "    'ZH',\n",
       "    'SF',\n",
       "    'XW',\n",
       "    'KL',\n",
       "    'LX',\n",
       "    'TE',\n",
       "    'LN',\n",
       "    'FY',\n",
       "    'FD',\n",
       "    'PZ',\n",
       "    'HL',\n",
       "    'JZ',\n",
       "    'GK',\n",
       "    'QM',\n",
       "    'WR',\n",
       "    'OQ',\n",
       "    'DG',\n",
       "    'DE',\n",
       "    'KJ',\n",
       "    'ML',\n",
       "    'YD',\n",
       "    'QK',\n",
       "    'FJ',\n",
       "    'ET',\n",
       "    'CR',\n",
       "    'IP',\n",
       "    'UW',\n",
       "    'BV',\n",
       "    'OB',\n",
       "    'QL',\n",
       "    'FV',\n",
       "    'SQ',\n",
       "    'DX',\n",
       "    'KK',\n",
       "    'LW',\n",
       "    'EA',\n",
       "    'DM',\n",
       "    'XV',\n",
       "    'GA',\n",
       "    'LC',\n",
       "    'JR',\n",
       "    'NQ',\n",
       "    'QB',\n",
       "    'FX',\n",
       "    'ZB',\n",
       "    'IS',\n",
       "    'KW',\n",
       "    'CP',\n",
       "    'AV',\n",
       "    'YU',\n",
       "    'KD',\n",
       "    'EF',\n",
       "    'IG',\n",
       "    'XT',\n",
       "    'ND',\n",
       "    'OW',\n",
       "    'JH',\n",
       "    'FR',\n",
       "    'SZ',\n",
       "    'SY',\n",
       "    'CU',\n",
       "    'CD',\n",
       "    'DT',\n",
       "    'FC',\n",
       "    'JO',\n",
       "    'EU',\n",
       "    'CL',\n",
       "    'EN',\n",
       "    'QH',\n",
       "    'UB',\n",
       "    'UN',\n",
       "    'AG',\n",
       "    'IT',\n",
       "    'LH',\n",
       "    'YK',\n",
       "    'NI',\n",
       "    'NX',\n",
       "    'QF',\n",
       "    'HG',\n",
       "    'GO',\n",
       "    'YS',\n",
       "    'TT',\n",
       "    'CC',\n",
       "    'HK',\n",
       "    'JC',\n",
       "    'JE',\n",
       "    'JW',\n",
       "    'AQ',\n",
       "    'WQ',\n",
       "    'UH',\n",
       "    'WW',\n",
       "    'NU',\n",
       "    'UO',\n",
       "    'NG',\n",
       "    'CS',\n",
       "    'XO',\n",
       "    'FK',\n",
       "    'DZ',\n",
       "    'DW',\n",
       "    'YT',\n",
       "    'LI',\n",
       "    'YI',\n",
       "    'FZ',\n",
       "    'CI',\n",
       "    'JY',\n",
       "    'UQ',\n",
       "    'EK',\n",
       "    'AL',\n",
       "    'HI',\n",
       "    'QT',\n",
       "    'JV',\n",
       "    'KZ',\n",
       "    'TN',\n",
       "    'YR',\n",
       "    'TD',\n",
       "    'ZZ',\n",
       "    'UP',\n",
       "    'NH',\n",
       "    'DH',\n",
       "    'QS',\n",
       "    'MU',\n",
       "    'PL',\n",
       "    'ER',\n",
       "    'LV',\n",
       "    'HO',\n",
       "    'UL',\n",
       "    'VW',\n",
       "    'SK',\n",
       "    'VD',\n",
       "    'VO',\n",
       "    'SW',\n",
       "    'IM',\n",
       "    'SO',\n",
       "    'NL',\n",
       "    'JQ',\n",
       "    'YY',\n",
       "    'CK',\n",
       "    'VL',\n",
       "    'EX',\n",
       "    'PX',\n",
       "    'EY',\n",
       "    'TJ',\n",
       "    'GN',\n",
       "    'QD',\n",
       "    'MB',\n",
       "    'FG',\n",
       "    'GG',\n",
       "    'TY',\n",
       "    'IW',\n",
       "    'MX',\n",
       "    'DF',\n",
       "    'ZD',\n",
       "    'DI',\n",
       "    'HA',\n",
       "    'XX',\n",
       "    'UM',\n",
       "    'UC',\n",
       "    'YM',\n",
       "    'XJ',\n",
       "    'RW',\n",
       "    'FS',\n",
       "    'AB',\n",
       "    'OV',\n",
       "    'ZX',\n",
       "    'BN',\n",
       "    'ZA',\n",
       "    'HP',\n",
       "    'CJ',\n",
       "    'QG',\n",
       "    'EM',\n",
       "    'KM',\n",
       "    'PO',\n",
       "    'KG',\n",
       "    'ZW',\n",
       "    'CX',\n",
       "    'GQ',\n",
       "    'MP',\n",
       "    'FF',\n",
       "    'HZ',\n",
       "    'CF',\n",
       "    'NC',\n",
       "    'WG',\n",
       "    'XD',\n",
       "    'IK',\n",
       "    'ZJ',\n",
       "    'IL',\n",
       "    'PC',\n",
       "    'QU',\n",
       "    'BO',\n",
       "    'AR',\n",
       "    'VV',\n",
       "    'SB',\n",
       "    'KV',\n",
       "    'CN',\n",
       "    'GV',\n",
       "    'QI',\n",
       "    'AO',\n",
       "    'KR',\n",
       "    'IC',\n",
       "    'PQ',\n",
       "    'XQ',\n",
       "    'MV',\n",
       "    'GH',\n",
       "    'SN',\n",
       "    'FT',\n",
       "    'KO',\n",
       "    'RH',\n",
       "    'WZ',\n",
       "    'MK',\n",
       "    'AK',\n",
       "    'TP',\n",
       "    'XU',\n",
       "    'UJ',\n",
       "    'AW',\n",
       "    'GC',\n",
       "    'SP',\n",
       "    'OA',\n",
       "    'TH',\n",
       "    'WX',\n",
       "    'YA',\n",
       "    'XY',\n",
       "    'OM',\n",
       "    'CY',\n",
       "    'CZ',\n",
       "    'AX',\n",
       "    'EB',\n",
       "    'UI',\n",
       "    'TK',\n",
       "    'XB',\n",
       "    'YW',\n",
       "    'RJ',\n",
       "    'ZC',\n",
       "    'DJ',\n",
       "    'MC',\n",
       "    'IX',\n",
       "    'JP',\n",
       "    'ZE',\n",
       "    'MH',\n",
       "    'TB',\n",
       "    'VR',\n",
       "    'QA',\n",
       "    'ZS',\n",
       "    'BJ',\n",
       "    'RL',\n",
       "    'RY',\n",
       "    'YC',\n",
       "    'JF',\n",
       "    'ZT',\n",
       "    'QC',\n",
       "    'YX',\n",
       "    'QN',\n",
       "    'RR',\n",
       "    'FB',\n",
       "    'WE',\n",
       "    'OO',\n",
       "    'NK',\n",
       "    'ZK',\n",
       "    'ZO',\n",
       "    'ED',\n",
       "    'BQ',\n",
       "    'RE',\n",
       "    'TM',\n",
       "    'JK',\n",
       "    'MG',\n",
       "    'QJ',\n",
       "    'GP',\n",
       "    'UA',\n",
       "    'JG',\n",
       "    'JJ',\n",
       "    'BM',\n",
       "    'YE',\n",
       "    'XS',\n",
       "    'LT',\n",
       "    'LE',\n",
       "    'HU',\n",
       "    'VY',\n",
       "    'EZ',\n",
       "    'KQ',\n",
       "    'EG',\n",
       "    'DO',\n",
       "    'WK',\n",
       "    'RF',\n",
       "    'BC',\n",
       "    'WH',\n",
       "    'VQ',\n",
       "    'KN',\n",
       "    'GE',\n",
       "    'BU',\n",
       "    'BI',\n",
       "    'OD',\n",
       "    'KB',\n",
       "    'MT',\n",
       "    'TU',\n",
       "    'NZ',\n",
       "    'UD',\n",
       "    'HF',\n",
       "    'SI',\n",
       "    'BF',\n",
       "    'KF',\n",
       "    'TZ',\n",
       "    'EI',\n",
       "    'VB',\n",
       "    'RG',\n",
       "    'DP',\n",
       "    'VH',\n",
       "    'UR',\n",
       "    'AC',\n",
       "    'YV',\n",
       "    'KT',\n",
       "    'TC',\n",
       "    'OE',\n",
       "    'AA',\n",
       "    'FM',\n",
       "    'EL',\n",
       "    'DA',\n",
       "    'GM',\n",
       "    'MI',\n",
       "    'RS',\n",
       "    'JS',\n",
       "    'YO',\n",
       "    'ZM',\n",
       "    'TF',\n",
       "    'PW',\n",
       "    'BT',\n",
       "    'DK',\n",
       "    'ZY',\n",
       "    'CW',\n",
       "    'KC',\n",
       "    'DV',\n",
       "    'VM',\n",
       "    'DL',\n",
       "    'TV',\n",
       "    'WN',\n",
       "    'QY',\n",
       "    'CA',\n",
       "    'OX',\n",
       "    'SE',\n",
       "    'JX',\n",
       "    'SL',\n",
       "    'EH',\n",
       "    'ZL',\n",
       "    'JL',\n",
       "    'ZG',\n",
       "    'XF',\n",
       "    'VF',\n",
       "    'RI',\n",
       "    'PE',\n",
       "    'ZI',\n",
       "    'PA',\n",
       "    'LL',\n",
       "    'PK',\n",
       "    'VP',\n",
       "    'RV',\n",
       "    'LZ',\n",
       "    'EO',\n",
       "    'QW',\n",
       "    'DD',\n",
       "    'DS',\n",
       "    'PF',\n",
       "    'OG',\n",
       "    'RM',\n",
       "    'YN',\n",
       "    'IB'],\n",
       "   'percentage_missing_value': 0.0},\n",
       "  'created_at': {'data_type': 'datetime64[ns, UTC]'}}}"
      ]
     },
     "metadata": {},
     "output_type": "display_data"
    }
   ],
   "source": [
    "# Create Reporting Profiling\n",
    "report_patient = patient_profiling.reporting()\n",
    "report_patient"
   ]
  },
  {
   "cell_type": "code",
   "execution_count": null,
   "metadata": {},
   "outputs": [
    {
     "data": {
      "text/plain": [
       "['doctor_id', 'name', 'phone_number', 'speciality_id', 'created_at']"
      ]
     },
     "metadata": {},
     "output_type": "display_data"
    }
   ],
   "source": [
    "# Profiling Table doctor\n",
    "df_doctor = extract_database('clinic', 'doctor')\n",
    "\n",
    "# create profiling object\n",
    "doctor_profiling = Profiling(data = df_doctor, table_name='doctor')\n",
    "\n",
    "# get columns from the table\n",
    "doctor_profiling.get_columns()"
   ]
  },
  {
   "cell_type": "code",
   "execution_count": null,
   "metadata": {},
   "outputs": [],
   "source": [
    "# Set Profiling Rule\n",
    "# list check data type (all columns)\n",
    "data_type_column = doctor_profiling.get_columns()\n",
    "\n",
    "#list check unique values\n",
    "unique_values = []\n",
    "\n",
    "#list check percentage missing values\n",
    "missing_values = ['phone_number']\n",
    "\n",
    "#list check valid date values\n",
    "valid_date = []\n",
    "\n",
    "# Set Profiling rule to object\n",
    "doctor_profiling.selected_columns(data_type_column, unique_values, missing_values, valid_date)\n"
   ]
  },
  {
   "cell_type": "code",
   "execution_count": null,
   "metadata": {},
   "outputs": [
    {
     "name": "stdout",
     "output_type": "stream",
     "text": [
      "{'created_at': '2024-08-13', 'report': {'doctor_id': {'data_type': 'int64'}, 'name': {'data_type': 'object'}, 'phone_number': {'data_type': 'object', 'percentage_missing_value': 0.0}, 'speciality_id': {'data_type': 'float64'}, 'created_at': {'data_type': 'datetime64[ns, UTC]'}}}\n"
     ]
    }
   ],
   "source": [
    "# Create Reporting Profiling\n",
    "report_doctor = doctor_profiling.reporting()"
   ]
  },
  {
   "cell_type": "code",
   "execution_count": null,
   "metadata": {},
   "outputs": [
    {
     "data": {
      "text/plain": [
       "['speciality_id', 'name', 'created_at']"
      ]
     },
     "metadata": {},
     "output_type": "display_data"
    }
   ],
   "source": [
    "# Profiling Table specialty\n",
    "df_specialty = extract_database('clinic', 'speciality')\n",
    "\n",
    "# create profiling object\n",
    "specialty_profiling = Profiling(data = df_specialty, table_name='speciality')\n",
    "\n",
    "# get columns from the table\n",
    "specialty_profiling.get_columns()"
   ]
  },
  {
   "cell_type": "code",
   "execution_count": null,
   "metadata": {},
   "outputs": [],
   "source": [
    "# Set Profiling Rule\n",
    "# list check data type (all columns)\n",
    "data_type_column = specialty_profiling.get_columns()\n",
    "\n",
    "#list check unique values\n",
    "unique_values = ['name']\n",
    "\n",
    "#list check percentage missing values\n",
    "missing_values = []\n",
    "\n",
    "#list check valid date values\n",
    "valid_date = []\n",
    "\n",
    "# Set Profiling rule to object\n",
    "specialty_profiling.selected_columns(data_type_column, unique_values, missing_values, valid_date)\n"
   ]
  },
  {
   "cell_type": "code",
   "execution_count": null,
   "metadata": {},
   "outputs": [
    {
     "name": "stdout",
     "output_type": "stream",
     "text": [
      "{'created_at': '2024-08-13', 'report': {'speciality_id': {'data_type': 'int64'}, 'name': {'data_type': 'object', 'unique_value': ['Cardiology', 'Dermatology', 'Endocrinology', 'Gastroenterology', 'Neurology', 'Ophthalmology', 'Pediatrics']}, 'created_at': {'data_type': 'datetime64[ns, UTC]'}}}\n"
     ]
    }
   ],
   "source": [
    "# Create Reporting Profiling\n",
    "report_specialty = specialty_profiling.reporting()\n"
   ]
  },
  {
   "cell_type": "code",
   "execution_count": null,
   "metadata": {},
   "outputs": [
    {
     "data": {
      "text/plain": [
       "['medication_id',\n",
       " 'name',\n",
       " 'manufacturer',\n",
       " 'dosage_form',\n",
       " 'strength',\n",
       " 'description',\n",
       " 'created_at']"
      ]
     },
     "metadata": {},
     "output_type": "display_data"
    }
   ],
   "source": [
    "# Profiling Table medication\n",
    "df_medication = extract_database('clinic', 'medication')\n",
    "\n",
    "# create profiling object\n",
    "medication_profiling = Profiling(data = df_medication, table_name='medication')\n",
    "\n",
    "# get columns from the table\n",
    "medication_profiling.get_columns()\n"
   ]
  },
  {
   "cell_type": "code",
   "execution_count": null,
   "metadata": {},
   "outputs": [],
   "source": [
    "#Set Profiling Rule\n",
    "# list check data type (all columns)\n",
    "data_type_column = medication_profiling.get_columns()\n",
    "\n",
    "#list check unique values\n",
    "unique_values = ['manufacturer', 'dosage_form', 'strength']\n",
    "\n",
    "#list check percentage missing values\n",
    "missing_values = ['manufacturer', 'dosage_form', 'strength', 'description']\n",
    "\n",
    "#list check valid date values\n",
    "valid_date = []\n",
    "\n",
    "# Set Profiling rule to object\n",
    "medication_profiling.selected_columns(data_type_column, unique_values, missing_values, valid_date)"
   ]
  },
  {
   "cell_type": "code",
   "execution_count": null,
   "metadata": {},
   "outputs": [
    {
     "name": "stdout",
     "output_type": "stream",
     "text": [
      "{'created_at': '2024-08-13', 'report': {'medication_id': {'data_type': 'int64'}, 'name': {'data_type': 'object'}, 'manufacturer': {'data_type': 'object', 'unique_value': ['ABC Pharma', 'XYZ Pharmaceuticals', 'MediCo', 'Pharmalife', 'HealthMeds', 'Wellness Drugs', 'BreathEasy', 'HealPharma', 'AllergyCare', 'HeartGuard', 'CardioHealth', 'ThyroidWell', 'CholesterolControl', 'ReliefMeds', 'MindBalance', 'BloodCare', 'SleepEase', 'KidneyCare', 'PainRelief', 'WaterBalance', 'MicroMed', 'GastroGuard', 'InflammationControl', 'AsthmaCare', 'HeartCare', 'MediCure', 'BreatheEasy', 'HappinessRx', 'MoodStabilize', 'JointRelief', 'StomachEase', 'SleepWell', 'EmotionBalance', 'NeuroCare', 'AnxietyControl', 'SleepAid', 'ThyroidCare', 'AllergyControl', 'AnxietyEase', 'LoveLife', 'AllergyRelief', 'MoodBalance', 'MentalHealth', 'AnxietyRelief', 'CalmEase'], 'percentage_missing_value': 0.0}, 'dosage_form': {'data_type': 'object', 'unique_value': ['Tablet', 'Capsule', 'Inhaler'], 'percentage_missing_value': 0.0}, 'strength': {'data_type': 'object', 'unique_value': ['200mg', '500mg', '10mg', '20mg', '40mg', '1000mg', '100mcg', '81mg', '50mg', '25mg', '5mg', '15mg', '12.5mg', '250mg', '50mcg', '30mg', '150mg', '75mg', '100mg', '300mg', '2mg', '4mg', '220mg', '180mg', '0.5mg'], 'percentage_missing_value': 0.0}, 'description': {'data_type': 'object', 'percentage_missing_value': 0.0}, 'created_at': {'data_type': 'datetime64[ns, UTC]'}}}\n"
     ]
    }
   ],
   "source": [
    "# Create Reporting Profiling\n",
    "report_medication = medication_profiling.reporting()"
   ]
  },
  {
   "cell_type": "code",
   "execution_count": null,
   "metadata": {},
   "outputs": [
    {
     "data": {
      "text/plain": [
       "['appointment_id',\n",
       " 'patient_id',\n",
       " 'doctor_id',\n",
       " 'appointment_date',\n",
       " 'notes',\n",
       " 'status',\n",
       " 'created_at']"
      ]
     },
     "metadata": {},
     "output_type": "display_data"
    }
   ],
   "source": [
    "# Profiling Table appointment\n",
    "df_appointment = extract_database('clinic', 'appointment')\n",
    "\n",
    "# create profiling object\n",
    "appointment_profiling = Profiling(data = df_appointment, table_name='appointment')\n",
    "\n",
    "# get columns from the table\n",
    "appointment_profiling.get_columns()\n"
   ]
  },
  {
   "cell_type": "code",
   "execution_count": null,
   "metadata": {},
   "outputs": [],
   "source": [
    "# Set Profiling Rule\n",
    "# list check data type (all columns)\n",
    "data_type_column = appointment_profiling.get_columns()\n",
    "\n",
    "#list check unique values\n",
    "unique_values = ['status']\n",
    "\n",
    "#list check percentage missing values\n",
    "missing_values = appointment_profiling.get_columns()\n",
    "\n",
    "#list check valid date values\n",
    "valid_date = ['appointment_date']\n",
    "\n",
    "# Set Profiling rule to object\n",
    "appointment_profiling.selected_columns(data_type_column, unique_values, missing_values, valid_date)\n"
   ]
  },
  {
   "cell_type": "code",
   "execution_count": null,
   "metadata": {},
   "outputs": [
    {
     "name": "stdout",
     "output_type": "stream",
     "text": [
      "{'created_at': '2024-08-13', 'report': {'appointment_id': {'data_type': 'int64', 'percentage_missing_value': 0.0}, 'patient_id': {'data_type': 'int64', 'percentage_missing_value': 0.0}, 'doctor_id': {'data_type': 'int64', 'percentage_missing_value': 0.0}, 'appointment_date': {'data_type': 'datetime64[ns]', 'percentage_missing_value': 0.0, 'percentage_valid_date': 100.0}, 'notes': {'data_type': 'object', 'percentage_missing_value': 0.0}, 'status': {'data_type': 'object', 'unique_value': ['completed', None, 'Cancelled'], 'percentage_missing_value': 35.095238095238095}, 'created_at': {'data_type': 'datetime64[ns, UTC]', 'percentage_missing_value': 0.0}}}\n"
     ]
    }
   ],
   "source": [
    "# Create Reporting Profiling\n",
    "report_appointment = appointment_profiling.reporting()"
   ]
  },
  {
   "cell_type": "code",
   "execution_count": null,
   "metadata": {},
   "outputs": [
    {
     "data": {
      "text/plain": [
       "['prescription_id', 'appointment_id', 'medication_id', 'created_at']"
      ]
     },
     "metadata": {},
     "output_type": "display_data"
    }
   ],
   "source": [
    "# Profiling Table prescription\n",
    "df_prescription = extract_database('clinic', 'prescription')\n",
    "\n",
    "# create profiling object\n",
    "prescription_profiling = Profiling(data = df_prescription, table_name='prescription')\n",
    "\n",
    "# get columns from the table\n",
    "prescription_profiling.get_columns()"
   ]
  },
  {
   "cell_type": "code",
   "execution_count": null,
   "metadata": {},
   "outputs": [],
   "source": [
    "# Set Profiling Rule\n",
    "# list check data type (all columns)\n",
    "data_type_column = prescription_profiling.get_columns()\n",
    "\n",
    "#list check unique values\n",
    "unique_values = []\n",
    "\n",
    "#list check percentage missing values\n",
    "missing_values = prescription_profiling.get_columns()\n",
    "\n",
    "#list check valid date values\n",
    "valid_date = []\n",
    "\n",
    "# Set Profiling rule to object\n",
    "prescription_profiling.selected_columns(data_type_column, unique_values, missing_values, valid_date)"
   ]
  },
  {
   "cell_type": "code",
   "execution_count": null,
   "metadata": {},
   "outputs": [
    {
     "name": "stdout",
     "output_type": "stream",
     "text": [
      "{'created_at': '2024-08-13', 'report': {'prescription_id': {'data_type': 'int64', 'percentage_missing_value': 0.0}, 'appointment_id': {'data_type': 'int64', 'percentage_missing_value': 0.0}, 'medication_id': {'data_type': 'int64', 'percentage_missing_value': 0.0}, 'created_at': {'data_type': 'datetime64[ns, UTC]', 'percentage_missing_value': 0.0}}}\n"
     ]
    }
   ],
   "source": [
    "# Create Reporting Profiling\n",
    "report_prescription = prescription_profiling.reporting()"
   ]
  },
  {
   "cell_type": "markdown",
   "metadata": {},
   "source": [
    "#### Profiling Database Clinic Ops"
   ]
  },
  {
   "cell_type": "code",
   "execution_count": null,
   "metadata": {},
   "outputs": [
    {
     "name": "stdout",
     "output_type": "stream",
     "text": [
      "           table_name\n",
      "0           equipment\n",
      "1          speciality\n",
      "2                role\n",
      "3              salary\n",
      "4      leave_requests\n",
      "5            employee\n",
      "6  maintenance_record\n"
     ]
    }
   ],
   "source": [
    "# Extract Table from Database Clinic Operation\n",
    "list_table = extract_list_table(db_name='clinic_ops')\n",
    "print(list_table)"
   ]
  },
  {
   "cell_type": "code",
   "execution_count": null,
   "metadata": {},
   "outputs": [
    {
     "data": {
      "text/plain": [
       "['employee_id',\n",
       " 'name',\n",
       " 'phone_number',\n",
       " 'speciality_id',\n",
       " 'role_id',\n",
       " 'created_at']"
      ]
     },
     "metadata": {},
     "output_type": "display_data"
    }
   ],
   "source": [
    "# Profiling Table employee\n",
    "df_employee = extract_database('clinic_ops', 'employee')\n",
    "\n",
    "# create profiling object  \n",
    "employee_profiling = Profiling(data = df_employee, table_name='employee')\n",
    "\n",
    "# get columns from the table\n",
    "employee_profiling.get_columns()"
   ]
  },
  {
   "cell_type": "code",
   "execution_count": null,
   "metadata": {},
   "outputs": [],
   "source": [
    "# Set Profiling Rule\n",
    "# list check data type (all columns)\n",
    "data_type_column = employee_profiling.get_columns()\n",
    "\n",
    "#list check unique values\n",
    "unique_values = []\n",
    "\n",
    "#list check percentage missing values\n",
    "missing_values = employee_profiling.get_columns()\n",
    "\n",
    "#list check valid date values\n",
    "valid_date = []\n",
    "\n",
    "# Set Profiling rule to object\n",
    "employee_profiling.selected_columns(data_type_column, unique_values, missing_values, valid_date)\n"
   ]
  },
  {
   "cell_type": "code",
   "execution_count": null,
   "metadata": {},
   "outputs": [
    {
     "name": "stdout",
     "output_type": "stream",
     "text": [
      "{'created_at': '2024-08-13', 'report': {'employee_id': {'data_type': 'int64', 'percentage_missing_value': 0.0}, 'name': {'data_type': 'object', 'percentage_missing_value': 0.0}, 'phone_number': {'data_type': 'object', 'percentage_missing_value': 0.0}, 'speciality_id': {'data_type': 'float64', 'percentage_missing_value': 89.46428571428572}, 'role_id': {'data_type': 'int64', 'percentage_missing_value': 0.0}, 'created_at': {'data_type': 'datetime64[ns, UTC]', 'percentage_missing_value': 0.0}}}\n"
     ]
    }
   ],
   "source": [
    "# Create Reporting Profiling\n",
    "report_employee = employee_profiling.reporting()"
   ]
  },
  {
   "cell_type": "code",
   "execution_count": null,
   "metadata": {},
   "outputs": [
    {
     "data": {
      "text/plain": [
       "['speciality_id', 'name', 'created_at']"
      ]
     },
     "metadata": {},
     "output_type": "display_data"
    }
   ],
   "source": [
    "# Profiling Table speciality\n",
    "df_speciality = extract_database('clinic_ops', 'speciality')\n",
    "\n",
    "# create profiling object\n",
    "speciality_profiling = Profiling(data = df_speciality, table_name='speciality')\n",
    "\n",
    "# get columns from the table\n",
    "speciality_profiling.get_columns()"
   ]
  },
  {
   "cell_type": "code",
   "execution_count": null,
   "metadata": {},
   "outputs": [],
   "source": [
    "# Set Profiling Rule\n",
    "# list check data type (all columns)\n",
    "data_type_column = speciality_profiling.get_columns()\n",
    "\n",
    "#list check unique values\n",
    "unique_values = ['name']\n",
    "\n",
    "#list check percentage missing values\n",
    "missing_values = []\n",
    "\n",
    "#list check valid date values\n",
    "valid_date = []\n",
    "\n",
    "# Set Profiling rule to object\n",
    "speciality_profiling.selected_columns(data_type_column, unique_values, missing_values, valid_date)"
   ]
  },
  {
   "cell_type": "code",
   "execution_count": null,
   "metadata": {},
   "outputs": [
    {
     "name": "stdout",
     "output_type": "stream",
     "text": [
      "{'created_at': '2024-08-13', 'report': {'speciality_id': {'data_type': 'int64'}, 'name': {'data_type': 'object', 'unique_value': ['Cardiology', 'Dermatology', 'Endocrinology', 'Gastroenterology', 'Neurology', 'Ophthalmology', 'Pediatrics']}, 'created_at': {'data_type': 'datetime64[ns, UTC]'}}}\n"
     ]
    }
   ],
   "source": [
    "# Create Reporting Profiling\n",
    "report_speciality = speciality_profiling.reporting()"
   ]
  },
  {
   "cell_type": "code",
   "execution_count": null,
   "metadata": {},
   "outputs": [
    {
     "data": {
      "text/plain": [
       "['role_id', 'name', 'description', 'created_at']"
      ]
     },
     "metadata": {},
     "output_type": "display_data"
    }
   ],
   "source": [
    "# Profiling Table role\n",
    "df_role = extract_database('clinic_ops', 'role')\n",
    "\n",
    "# create profiling object\n",
    "role_profiling = Profiling(data = df_role, table_name='role')\n",
    "\n",
    "# get columns from the table\n",
    "role_profiling.get_columns()"
   ]
  },
  {
   "cell_type": "code",
   "execution_count": null,
   "metadata": {},
   "outputs": [],
   "source": [
    "# Set Profiling Rule\n",
    "# list check data type (all columns)\n",
    "data_type_column = role_profiling.get_columns()\n",
    "\n",
    "#list check unique values\n",
    "unique_values = ['name']\n",
    "\n",
    "#list check percentage missing values\n",
    "missing_values = []\n",
    "\n",
    "#list check valid date values\n",
    "valid_date = []\n",
    "\n",
    "# Set Profiling rule to object\n",
    "role_profiling.selected_columns(data_type_column, unique_values, missing_values, valid_date)"
   ]
  },
  {
   "cell_type": "code",
   "execution_count": null,
   "metadata": {},
   "outputs": [
    {
     "name": "stdout",
     "output_type": "stream",
     "text": [
      "{'created_at': '2024-08-13', 'report': {'role_id': {'data_type': 'int64'}, 'name': {'data_type': 'object', 'unique_value': ['receptionist', 'nurse', 'physician', 'technician', 'administrator', 'doctor']}, 'description': {'data_type': 'object'}, 'created_at': {'data_type': 'datetime64[ns, UTC]'}}}\n"
     ]
    }
   ],
   "source": [
    "# Create Reporting Profiling\n",
    "report_role = role_profiling.reporting()"
   ]
  },
  {
   "cell_type": "code",
   "execution_count": null,
   "metadata": {},
   "outputs": [
    {
     "data": {
      "text/plain": [
       "['salary_id', 'employee_id', 'amount', 'payment_date', 'created_at']"
      ]
     },
     "metadata": {},
     "output_type": "display_data"
    }
   ],
   "source": [
    "# Profiling Table salary\n",
    "df_salary = extract_database('clinic_ops', 'salary')\n",
    "\n",
    "# create profiling object\n",
    "salary_profiling = Profiling(data = df_salary, table_name='salary')\n",
    "\n",
    "# get columns from the table\n",
    "salary_profiling.get_columns()"
   ]
  },
  {
   "cell_type": "code",
   "execution_count": null,
   "metadata": {},
   "outputs": [],
   "source": [
    "# Set Profiling Rule\n",
    "# list check data type (all columns)\n",
    "data_type_column = salary_profiling.get_columns()\n",
    "\n",
    "#list check unique values\n",
    "unique_values = []\n",
    "\n",
    "#list check percentage missing values\n",
    "missing_values = salary_profiling.get_columns()\n",
    "\n",
    "#list check valid date values\n",
    "valid_date = ['payment_date']\n",
    "\n",
    "# Set Profiling rule to object\n",
    "salary_profiling.selected_columns(data_type_column, unique_values, missing_values, valid_date)"
   ]
  },
  {
   "cell_type": "code",
   "execution_count": null,
   "metadata": {},
   "outputs": [
    {
     "name": "stdout",
     "output_type": "stream",
     "text": [
      "{'created_at': '2024-08-13', 'report': {'salary_id': {'data_type': 'int64', 'percentage_missing_value': 0.0}, 'employee_id': {'data_type': 'int64', 'percentage_missing_value': 0.0}, 'amount': {'data_type': 'float64', 'percentage_missing_value': 0.0}, 'payment_date': {'data_type': 'object', 'percentage_missing_value': 0.0, 'percentage_valid_date': 100.0}, 'created_at': {'data_type': 'datetime64[ns, UTC]', 'percentage_missing_value': 0.0}}}\n"
     ]
    }
   ],
   "source": [
    "# Create Reporting Profiling\n",
    "report_salary = salary_profiling.reporting()"
   ]
  },
  {
   "cell_type": "code",
   "execution_count": null,
   "metadata": {},
   "outputs": [
    {
     "data": {
      "text/plain": [
       "['leave_id',\n",
       " 'employee_id',\n",
       " 'leave_type',\n",
       " 'start_date',\n",
       " 'end_date',\n",
       " 'status',\n",
       " 'created_at']"
      ]
     },
     "metadata": {},
     "output_type": "display_data"
    }
   ],
   "source": [
    "# Profiling Table leave_request\n",
    "df_leave_request = extract_database('clinic_ops', 'leave_requests')\n",
    "\n",
    "# create profiling object\n",
    "leave_request_profiling = Profiling(data = df_leave_request, table_name='leave_requests')\n",
    "\n",
    "# get columns from the table\n",
    "leave_request_profiling.get_columns()\n"
   ]
  },
  {
   "cell_type": "code",
   "execution_count": null,
   "metadata": {},
   "outputs": [],
   "source": [
    "# Set Profiling Rule\n",
    "# list check data type (all columns)\n",
    "data_type_column = leave_request_profiling.get_columns()\n",
    "\n",
    "#list check unique values\n",
    "unique_values = ['leave_type','status']\n",
    "\n",
    "#list check percentage missing values\n",
    "missing_values = leave_request_profiling.get_columns()\n",
    "\n",
    "#list check valid date values\n",
    "valid_date = ['start_date','end_date']\n",
    "\n",
    "# Set Profiling rule to object\n",
    "leave_request_profiling.selected_columns(data_type_column, unique_values, missing_values, valid_date)"
   ]
  },
  {
   "cell_type": "code",
   "execution_count": null,
   "metadata": {},
   "outputs": [
    {
     "name": "stdout",
     "output_type": "stream",
     "text": [
      "{'created_at': '2024-08-13', 'report': {'leave_id': {'data_type': 'int64', 'percentage_missing_value': 0.0}, 'employee_id': {'data_type': 'int64', 'percentage_missing_value': 0.0}, 'leave_type': {'data_type': 'object', 'unique_value': ['Annual', 'Parental', 'Casual', 'Religous', 'Sick'], 'percentage_missing_value': 0.0}, 'start_date': {'data_type': 'object', 'percentage_missing_value': 0.0, 'percentage_valid_date': 100.0}, 'end_date': {'data_type': 'object', 'percentage_missing_value': 0.0, 'percentage_valid_date': 100.0}, 'status': {'data_type': 'object', 'unique_value': ['Approved', 'Rejected', 'Pending'], 'percentage_missing_value': 0.0}, 'created_at': {'data_type': 'datetime64[ns, UTC]', 'percentage_missing_value': 0.0}}}\n"
     ]
    }
   ],
   "source": [
    "# Create Reporting Profiling\n",
    "report_leave_request = leave_request_profiling.reporting()"
   ]
  },
  {
   "cell_type": "code",
   "execution_count": null,
   "metadata": {},
   "outputs": [
    {
     "data": {
      "text/plain": [
       "['equipment_id',\n",
       " 'name',\n",
       " 'serial_number',\n",
       " 'purchase_date',\n",
       " 'warranty_expiration',\n",
       " 'location',\n",
       " 'created_at']"
      ]
     },
     "metadata": {},
     "output_type": "display_data"
    }
   ],
   "source": [
    "# Profiling Table equipment\n",
    "df_equipment = extract_database('clinic_ops', 'equipment')\n",
    "\n",
    "# create profiling object\n",
    "equipment_profiling = Profiling(data = df_equipment, table_name='equipment')\n",
    "\n",
    "# get columns from the table\n",
    "equipment_profiling.get_columns()\n"
   ]
  },
  {
   "cell_type": "code",
   "execution_count": null,
   "metadata": {},
   "outputs": [],
   "source": [
    "# Set Profiling Rule\n",
    "# list check data type (all columns)\n",
    "data_type_column = equipment_profiling.get_columns()\n",
    "\n",
    "#list check unique values\n",
    "unique_values = ['location']\n",
    "\n",
    "#list check percentage missing values\n",
    "missing_values = equipment_profiling.get_columns()\n",
    "\n",
    "#list check valid date values\n",
    "valid_date = []\n",
    "\n",
    "# Set Profiling rule to object\n",
    "equipment_profiling.selected_columns(data_type_column, unique_values, missing_values, valid_date)"
   ]
  },
  {
   "cell_type": "code",
   "execution_count": null,
   "metadata": {},
   "outputs": [
    {
     "name": "stdout",
     "output_type": "stream",
     "text": [
      "{'created_at': '2024-08-13', 'report': {'equipment_id': {'data_type': 'int64', 'percentage_missing_value': 0.0}, 'name': {'data_type': 'object', 'percentage_missing_value': 0.0}, 'serial_number': {'data_type': 'object', 'percentage_missing_value': 0.0}, 'purchase_date': {'data_type': 'object', 'percentage_missing_value': 0.0}, 'warranty_expiration': {'data_type': 'object', 'percentage_missing_value': 0.0}, 'location': {'data_type': 'object', 'unique_value': ['General Instruments', 'OPD', 'Operation Theater', 'Operation Theater or Manual', 'Ophthalmic and ENT', 'Ophthalmic and ENTm', 'labour room'], 'percentage_missing_value': 0.0}, 'created_at': {'data_type': 'datetime64[ns, UTC]', 'percentage_missing_value': 0.0}}}\n"
     ]
    }
   ],
   "source": [
    "# Create Reporting Profiling\n",
    "report_equipment = equipment_profiling.reporting()"
   ]
  },
  {
   "cell_type": "code",
   "execution_count": null,
   "metadata": {},
   "outputs": [
    {
     "data": {
      "text/plain": [
       "['record_id',\n",
       " 'equipment_id',\n",
       " 'maintenance_date',\n",
       " 'description',\n",
       " 'cost',\n",
       " 'created_at']"
      ]
     },
     "metadata": {},
     "output_type": "display_data"
    }
   ],
   "source": [
    "# Profiling Table maintenance_report\n",
    "df_maintenance_report = extract_database('clinic_ops', 'maintenance_record')\n",
    "\n",
    "# create profiling object\n",
    "maintenance_report_profiling = Profiling(data = df_maintenance_report, table_name='maintenance_record')\n",
    "\n",
    "# get columns from the table\n",
    "maintenance_report_profiling.get_columns()"
   ]
  },
  {
   "cell_type": "code",
   "execution_count": null,
   "metadata": {},
   "outputs": [],
   "source": [
    "# Set Profiling Rule\n",
    "# list check data type (all columns)\n",
    "data_type_column = maintenance_report_profiling.get_columns()\n",
    "\n",
    "#list check unique values\n",
    "unique_values = []\n",
    "\n",
    "#list check percentage missing values\n",
    "missing_values = maintenance_report_profiling.get_columns()\n",
    "\n",
    "#list check valid date values\n",
    "valid_date = ['maintenance_date']\n",
    "\n",
    "# Set Profiling rule to object\n",
    "maintenance_report_profiling.selected_columns(data_type_column, unique_values, missing_values, valid_date)\n"
   ]
  },
  {
   "cell_type": "code",
   "execution_count": null,
   "metadata": {},
   "outputs": [
    {
     "name": "stdout",
     "output_type": "stream",
     "text": [
      "{'created_at': '2024-08-13', 'report': {'record_id': {'data_type': 'int64', 'percentage_missing_value': 0.0}, 'equipment_id': {'data_type': 'int64', 'percentage_missing_value': 0.0}, 'maintenance_date': {'data_type': 'object', 'percentage_missing_value': 0.0, 'percentage_valid_date': 100.0}, 'description': {'data_type': 'object', 'percentage_missing_value': 0.0}, 'cost': {'data_type': 'object', 'percentage_missing_value': 0.0}, 'created_at': {'data_type': 'datetime64[ns, UTC]', 'percentage_missing_value': 0.0}}}\n"
     ]
    }
   ],
   "source": [
    "# Create Reporting Profiling\n",
    "report_maintenance_report = maintenance_report_profiling.reporting()"
   ]
  },
  {
   "cell_type": "code",
   "execution_count": null,
   "metadata": {},
   "outputs": [],
   "source": []
  }
 ],
 "metadata": {
  "kernelspec": {
   "display_name": ".venv",
   "language": "python",
   "name": "python3"
  },
  "language_info": {
   "codemirror_mode": {
    "name": "ipython",
    "version": 3
   },
   "file_extension": ".py",
   "mimetype": "text/x-python",
   "name": "python",
   "nbconvert_exporter": "python",
   "pygments_lexer": "ipython3",
   "version": "3.11.4"
  }
 },
 "nbformat": 4,
 "nbformat_minor": 2
}
