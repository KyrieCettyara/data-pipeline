{
 "cells": [
  {
   "cell_type": "code",
   "execution_count": 1,
   "metadata": {},
   "outputs": [],
   "source": [
    "from pipeline.staging.extract import extract_database, extract_list_table, extract_sheet\n",
    "from pipeline.staging.load import load_staging\n",
    "from utils.db_conn import db_connection\n",
    "from utils.log import etl_log\n",
    "import pandas as pd"
   ]
  },
  {
   "cell_type": "code",
   "execution_count": 2,
   "metadata": {},
   "outputs": [],
   "source": [
    "tables_to_extract = ['acquisition',\n",
    "                    'company',\n",
    "                    'funding_rounds',\n",
    "                    'funds',\n",
    "                    'investments',\n",
    "                    'ipos']\n",
    "\n",
    "excel_to_extract = ['people',\n",
    "                    'relationships']\n",
    "\n",
    "extract_data = [\n",
    "                'acquisition',\n",
    "                'company',\n",
    "                'funding_rounds',\n",
    "                'funds',\n",
    "                'investments',\n",
    "                'ipos',\n",
    "                'people',\n",
    "                'relationships'\n",
    "                ]\n",
    "\n",
    "table_id = [\n",
    "            'acquisition_id',\n",
    "            'office_id',\n",
    "            'funding_round_id',\n",
    "            'fund_id',\n",
    "            'investment_id',\n",
    "            'ipo_id',\n",
    "            'people_id',\n",
    "            'relationship_id'\n",
    "]"
   ]
  },
  {
   "cell_type": "code",
   "execution_count": null,
   "metadata": {},
   "outputs": [],
   "source": [
    "for index, table_name in enumerate(tables_to_extract):\n",
    "    table_extract = extract_database(db_name='startup_investments', table_name = table_name)\n",
    "            "
   ]
  },
  {
   "cell_type": "code",
   "execution_count": null,
   "metadata": {},
   "outputs": [],
   "source": [
    "for index, file_name in enumerate(excel_to_extract):\n",
    "    excel_extract = extract_sheet(file_name)\n",
    "\n",
    "\n"
   ]
  },
  {
   "cell_type": "code",
   "execution_count": null,
   "metadata": {},
   "outputs": [],
   "source": [
    "load_staging(table_name='acquisition', idx_name='acquisition_id', source='startup investment')"
   ]
  },
  {
   "cell_type": "code",
   "execution_count": 2,
   "metadata": {},
   "outputs": [],
   "source": [
    "src_engine,_,_ = db_connection()"
   ]
  },
  {
   "cell_type": "code",
   "execution_count": 4,
   "metadata": {},
   "outputs": [
    {
     "name": "stdout",
     "output_type": "stream",
     "text": [
      "Database connection successful!\n"
     ]
    }
   ],
   "source": [
    "try:\n",
    "    with src_engine.connect() as connection:\n",
    "        print(\"Database connection successful!\")\n",
    "\n",
    "except Exception as e:\n",
    "    print(f\"Database connection failed: {e}\")\n"
   ]
  },
  {
   "cell_type": "code",
   "execution_count": 4,
   "metadata": {},
   "outputs": [],
   "source": [
    "log_msg = {\n",
    "        \"step\" : \"staging\",\n",
    "        \"process\":\"extraction\",\n",
    "        \"status\": \"success\",\n",
    "        \"source\": \"database\",\n",
    "        \"table_name\": \"test\" # Current timestamp\n",
    "    }"
   ]
  },
  {
   "cell_type": "code",
   "execution_count": 5,
   "metadata": {},
   "outputs": [],
   "source": [
    "etl_log(log_msg)"
   ]
  },
  {
   "cell_type": "code",
   "execution_count": null,
   "metadata": {},
   "outputs": [],
   "source": [
    "load_staging(table_name='company', idx_name='office_id', source='startup investment')"
   ]
  },
  {
   "cell_type": "code",
   "execution_count": null,
   "metadata": {},
   "outputs": [],
   "source": [
    "for index, table_name in enumerate(tables_to_extract):\n",
    "    load_staging(table_name= table_name, idx_name='acquisition_id', source='startup investment')\n",
    "    table_extract = extract_database(db_name='startup_investments', table_name = table_name)"
   ]
  },
  {
   "cell_type": "code",
   "execution_count": 5,
   "metadata": {},
   "outputs": [],
   "source": [
    "for index, table_name in enumerate(extract_data):\n",
    "    load_staging(table_name= table_name, idx_name=table_id[index], source='startup investment')"
   ]
  },
  {
   "cell_type": "code",
   "execution_count": 3,
   "metadata": {},
   "outputs": [
    {
     "name": "stdout",
     "output_type": "stream",
     "text": [
      "acquisition\n",
      "acquisition_id\n",
      "======\n",
      "company\n",
      "office_id\n",
      "======\n",
      "funding_rounds\n",
      "funding_round_id\n",
      "======\n",
      "funds\n",
      "fund_id\n",
      "======\n",
      "investments\n",
      "investment_id\n",
      "======\n",
      "ipos\n",
      "ipo_id\n",
      "======\n",
      "people\n",
      "people_id\n",
      "======\n",
      "relationships\n",
      "relationship_id\n",
      "======\n"
     ]
    }
   ],
   "source": [
    "for index, table_name in enumerate(extract_data):\n",
    "    print(table_name)\n",
    "    print(table_id[index])\n",
    "    print(\"======\")"
   ]
  }
 ],
 "metadata": {
  "kernelspec": {
   "display_name": ".venv",
   "language": "python",
   "name": "python3"
  },
  "language_info": {
   "codemirror_mode": {
    "name": "ipython",
    "version": 3
   },
   "file_extension": ".py",
   "mimetype": "text/x-python",
   "name": "python",
   "nbconvert_exporter": "python",
   "pygments_lexer": "ipython3",
   "version": "3.11.4"
  }
 },
 "nbformat": 4,
 "nbformat_minor": 2
}
