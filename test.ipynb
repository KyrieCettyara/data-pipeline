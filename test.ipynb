{
 "cells": [
  {
   "cell_type": "code",
   "execution_count": null,
   "metadata": {},
   "outputs": [],
   "source": [
    "from pipeline.staging.extract import extract_database, extract_list_table, extract_sheet\n",
    "from pipeline.staging.load import load_staging\n",
    "from utils.db_conn import db_connection\n",
    "from utils.log import etl_log\n",
    "import pandas as pd"
   ]
  },
  {
   "cell_type": "code",
   "execution_count": null,
   "metadata": {},
   "outputs": [],
   "source": [
    "tables_to_extract = ['acquisition',\n",
    "                    'company',\n",
    "                    'funding_rounds',\n",
    "                    'funds',\n",
    "                    'investments',\n",
    "                    'ipos']\n",
    "\n",
    "excel_to_extract = ['people',\n",
    "                    'relationships']\n",
    "\n",
    "extract_data = [\n",
    "                'acquisition',\n",
    "                'company',\n",
    "                'funding_rounds',\n",
    "                'funds',\n",
    "                'investments',\n",
    "                'ipos',\n",
    "                'people',\n",
    "                'relationships'\n",
    "                ]\n",
    "\n",
    "table_id = [\n",
    "            'acquisition_id',\n",
    "            'office_id',\n",
    "            'funding_round_id',\n",
    "            'fund_id',\n",
    "            'investment_id',\n",
    "            'ipo_id',\n",
    "            'people_id',\n",
    "            'relationship_id'\n",
    "]"
   ]
  },
  {
   "cell_type": "code",
   "execution_count": null,
   "metadata": {},
   "outputs": [],
   "source": [
    "for index, table_name in enumerate(tables_to_extract):\n",
    "    table_extract = extract_database(db_name='startup_investments', table_name = table_name)\n",
    "            "
   ]
  },
  {
   "cell_type": "code",
   "execution_count": null,
   "metadata": {},
   "outputs": [],
   "source": [
    "for index, file_name in enumerate(excel_to_extract):\n",
    "    excel_extract = extract_sheet(file_name)\n",
    "\n",
    "\n"
   ]
  },
  {
   "cell_type": "code",
   "execution_count": null,
   "metadata": {},
   "outputs": [],
   "source": [
    "load_staging(table_name='acquisition', idx_name='acquisition_id', source='startup investment')"
   ]
  },
  {
   "cell_type": "code",
   "execution_count": null,
   "metadata": {},
   "outputs": [],
   "source": [
    "src_engine,_,_ = db_connection()"
   ]
  },
  {
   "cell_type": "code",
   "execution_count": null,
   "metadata": {},
   "outputs": [],
   "source": [
    "try:\n",
    "    with src_engine.connect() as connection:\n",
    "        print(\"Database connection successful!\")\n",
    "\n",
    "except Exception as e:\n",
    "    print(f\"Database connection failed: {e}\")\n"
   ]
  },
  {
   "cell_type": "code",
   "execution_count": null,
   "metadata": {},
   "outputs": [],
   "source": [
    "log_msg = {\n",
    "        \"step\" : \"staging\",\n",
    "        \"process\":\"extraction\",\n",
    "        \"status\": \"success\",\n",
    "        \"source\": \"database\",\n",
    "        \"table_name\": \"test\" # Current timestamp\n",
    "    }"
   ]
  },
  {
   "cell_type": "code",
   "execution_count": null,
   "metadata": {},
   "outputs": [],
   "source": [
    "etl_log(log_msg)"
   ]
  },
  {
   "cell_type": "code",
   "execution_count": null,
   "metadata": {},
   "outputs": [],
   "source": [
    "load_staging(table_name='company', idx_name='office_id', source='startup investment')"
   ]
  },
  {
   "cell_type": "code",
   "execution_count": null,
   "metadata": {},
   "outputs": [],
   "source": [
    "for index, table_name in enumerate(tables_to_extract):\n",
    "    load_staging(table_name= table_name, idx_name='acquisition_id', source='startup investment')\n",
    "    table_extract = extract_database(db_name='startup_investments', table_name = table_name)"
   ]
  },
  {
   "cell_type": "code",
   "execution_count": null,
   "metadata": {},
   "outputs": [],
   "source": [
    "for index, table_name in enumerate(extract_data):\n",
    "    load_staging(table_name= table_name, idx_name=table_id[index], source='startup investment')"
   ]
  },
  {
   "cell_type": "code",
   "execution_count": null,
   "metadata": {},
   "outputs": [],
   "source": [
    "for index, table_name in enumerate(extract_data):\n",
    "    print(table_name)\n",
    "    print(table_id[index])\n",
    "    print(\"======\")"
   ]
  },
  {
   "cell_type": "code",
   "execution_count": 1,
   "metadata": {},
   "outputs": [],
   "source": [
    "from pipeline.dwh.extract import extract_database"
   ]
  },
  {
   "cell_type": "code",
   "execution_count": 2,
   "metadata": {},
   "outputs": [],
   "source": [
    "extract_data = [\n",
    "                'acquisition',\n",
    "                'company',\n",
    "                'funding_rounds',\n",
    "                'funds',\n",
    "                'investments',\n",
    "                'ipos',\n",
    "                'people',\n",
    "                'relationships'\n",
    "                ]"
   ]
  },
  {
   "cell_type": "code",
   "execution_count": null,
   "metadata": {},
   "outputs": [
    {
     "ename": "TypeError",
     "evalue": "extract_database() got an unexpected keyword argument 'db_name'",
     "output_type": "error",
     "traceback": [
      "\u001b[31m---------------------------------------------------------------------------\u001b[39m",
      "\u001b[31mTypeError\u001b[39m                                 Traceback (most recent call last)",
      "\u001b[36mCell\u001b[39m\u001b[36m \u001b[39m\u001b[32mIn[3]\u001b[39m\u001b[32m, line 2\u001b[39m\n\u001b[32m      1\u001b[39m \u001b[38;5;28;01mfor\u001b[39;00m index, table_name \u001b[38;5;129;01min\u001b[39;00m \u001b[38;5;28menumerate\u001b[39m(extract_data):\n\u001b[32m----> \u001b[39m\u001b[32m2\u001b[39m     table_extract = \u001b[43mextract_database\u001b[49m\u001b[43m(\u001b[49m\u001b[43mdb_name\u001b[49m\u001b[43m=\u001b[49m\u001b[33;43m'\u001b[39;49m\u001b[33;43mstaging\u001b[39;49m\u001b[33;43m'\u001b[39;49m\u001b[43m,\u001b[49m\u001b[43m \u001b[49m\u001b[43mtable_name\u001b[49m\u001b[43m \u001b[49m\u001b[43m=\u001b[49m\u001b[43m \u001b[49m\u001b[43mtable_name\u001b[49m\u001b[43m)\u001b[49m\n",
      "\u001b[31mTypeError\u001b[39m: extract_database() got an unexpected keyword argument 'db_name'"
     ]
    }
   ],
   "source": [
    "for index, table_name in enumerate(extract_data):\n",
    "    table_extract = extract_database(table_name = table_name)"
   ]
  },
  {
   "cell_type": "code",
   "execution_count": null,
   "metadata": {},
   "outputs": [],
   "source": [
    "table_extract = extract_database(table_name = 'company')"
   ]
  },
  {
   "cell_type": "code",
   "execution_count": 1,
   "metadata": {},
   "outputs": [],
   "source": [
    "import pandas as pd\n",
    "from utils.db_conn import db_connection\n",
    "\n",
    "from utils.log import etl_log, read_etl_log\n"
   ]
  },
  {
   "cell_type": "code",
   "execution_count": 2,
   "metadata": {},
   "outputs": [],
   "source": [
    "_,_ ,stg_engine= db_connection()"
   ]
  },
  {
   "cell_type": "code",
   "execution_count": 6,
   "metadata": {},
   "outputs": [],
   "source": [
    "# Get date from previous process\n",
    "filter_log = {\"step_name\": \"warehouse\",\n",
    "            \"table_name\": \"company\",\n",
    "            \"status\": \"success\",\n",
    "            \"process\": \"load\"}\n",
    "etl_date = read_etl_log(filter_log)\n",
    "if(etl_date['max'][0] == None):\n",
    "    etl_date = '1111-01-01'\n",
    "else:\n",
    "    etl_date = etl_date[max][0]\n",
    "\n",
    "query = f\"SELECT * FROM company WHERE created_at  > %s::timestamp\"\n",
    "df = pd.read_sql(sql=query, con=stg_engine, params=(etl_date,))\n",
    "df.to_csv(f\"../data-pipeline/pipeline/temp/company.csv\", index=False)"
   ]
  },
  {
   "cell_type": "code",
   "execution_count": null,
   "metadata": {},
   "outputs": [],
   "source": [
    "from utils.db_conn import dwh_connection\n",
    "dwh_engine = dwh_connection()"
   ]
  },
  {
   "cell_type": "code",
   "execution_count": null,
   "metadata": {},
   "outputs": [],
   "source": [
    "\n",
    "\n",
    "try:\n",
    "    with dwh_engine.connect() as connection:\n",
    "        print(\"Database connection successful!\")\n",
    "\n",
    "except Exception as e:\n",
    "    print(f\"Database connection failed: {e}\")"
   ]
  },
  {
   "cell_type": "code",
   "execution_count": null,
   "metadata": {},
   "outputs": [],
   "source": [
    "from pipeline.dwh.transform import transform_commpany\n",
    "from pipeline.dwh.load import load_warehouse\n",
    "\n"
   ]
  },
  {
   "cell_type": "code",
   "execution_count": null,
   "metadata": {},
   "outputs": [],
   "source": [
    "company_transform = transform_commpany(table_name='company')\n"
   ]
  },
  {
   "cell_type": "code",
   "execution_count": null,
   "metadata": {},
   "outputs": [],
   "source": [
    "print(company_transform)"
   ]
  },
  {
   "cell_type": "code",
   "execution_count": null,
   "metadata": {},
   "outputs": [],
   "source": [
    "load_warehouse(data=company_transform, table_name='dim_company', idx_name='office_nk', table_process='company', source='staging')"
   ]
  }
 ],
 "metadata": {
  "kernelspec": {
   "display_name": ".venv",
   "language": "python",
   "name": "python3"
  },
  "language_info": {
   "codemirror_mode": {
    "name": "ipython",
    "version": 3
   },
   "file_extension": ".py",
   "mimetype": "text/x-python",
   "name": "python",
   "nbconvert_exporter": "python",
   "pygments_lexer": "ipython3",
   "version": "3.11.4"
  }
 },
 "nbformat": 4,
 "nbformat_minor": 2
}
